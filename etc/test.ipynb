{
 "cells": [
  {
   "cell_type": "code",
   "execution_count": 1,
   "metadata": {},
   "outputs": [],
   "source": [
    "import cv2\n",
    "import numpy as np\n",
    "import matplotlib.pyplot as plt\n",
    "import sys\n",
    "import os"
   ]
  },
  {
   "cell_type": "code",
   "execution_count": 2,
   "metadata": {},
   "outputs": [],
   "source": [
    "# change working directory to the directory of the script\n",
    "# os.chdir('/home/sendol/catkin_ws/src/turtlebot3_autorace_2020/etc/')"
   ]
  },
  {
   "cell_type": "code",
   "execution_count": 3,
   "metadata": {},
   "outputs": [
    {
     "name": "stdout",
     "output_type": "stream",
     "text": [
      "/home/sendol/catkin_ws/src/turtlebot3_autorace_2020/etc\n"
     ]
    }
   ],
   "source": [
    "# check current directory\n",
    "print(os.getcwd())"
   ]
  },
  {
   "cell_type": "markdown",
   "metadata": {},
   "source": [
    "## 1. Canny Edge Detector로 Edge 찾아내기\n",
    "\n",
    "이건 지금까지 계속 붙들고 있던 거라 그렇게 자세하게 설명할 필요는 없을 것 같다.\n",
    "\n",
    "아, 참고로 Canny 이전 단계에 굳이 Gaussian filter를 먹일 필요는 없다. Canny 파이프라인 자체에서 맨 처음 단계로 Gaussian filter를 먹이고 시작한다. 아래 함수에서 apertureSize가 Gaussian filter의 커널 사이즈, 그러니까 블러를 얼마나 많이 먹이고 시작할지를 결정한다."
   ]
  },
  {
   "cell_type": "code",
   "execution_count": 38,
   "metadata": {},
   "outputs": [
    {
     "data": {
      "text/plain": [
       "<matplotlib.image.AxesImage at 0x7ff5a56795c0>"
      ]
     },
     "execution_count": 38,
     "metadata": {},
     "output_type": "execute_result"
    },
    {
     "data": {
      "image/png": "[encoded data removed]",
      "text/plain": [
       "<Figure size 432x288 with 1 Axes>"
      ]
     },
     "metadata": {
      "needs_background": "light"
     },
     "output_type": "display_data"
    }
   ],
   "source": [
    "img = cv2.imread('./realworld_rainy.png')\n",
    "img = cv2.resize(img, (320, 240))\n",
    "gray = cv2.cvtColor(img, cv2.COLOR_BGR2GRAY)\n",
    "gray = cv2.GaussianBlur(gray, (15, 15), 0)\n",
    "edges = cv2.Canny(gray, 50, 150, apertureSize=3)\n",
    "plt.imshow(edges)"
   ]
  },
  {
   "cell_type": "code",
   "execution_count": 39,
   "metadata": {},
   "outputs": [
    {
     "data": {
      "text/plain": [
       "(240, 320)"
      ]
     },
     "execution_count": 39,
     "metadata": {},
     "output_type": "execute_result"
    }
   ],
   "source": [
    "edges.shape"
   ]
  },
  {
   "cell_type": "markdown",
   "metadata": {},
   "source": [
    "## 2. RoI Cropping\n",
    "전체 이미지에서 차선이 있을 법한 범위만 오려낸다. 추가로 기하학적 변환까지 하는데, 이렇게 하면 '덜 왜곡된' 이미지를 얻을 수 있어 나중에 더 써먹기 편할 것 같다.\n",
    "\n",
    "사실 아래 함수는 `turtlebot3_autorace_detect/detect_lane`에 있는 걸 가져와서 조금 수정한 거다. 이미지를 binary로 만들기 위해 return 직전의 구문을 추가했고, 맨 처음에 Gaussian filter 먹이는 게 있었는데 그걸 없앴다.\n",
    "\n",
    "원래는 그냥 Cropping -> Canny edge detect 순서로 해보려고 했는데 crop된 이미지에서는 edge detect가 잘 안되서 edge detect를 먼저 하고 edge image에서 cropping을 한다."
   ]
  },
  {
   "cell_type": "code",
   "execution_count": 43,
   "metadata": {},
   "outputs": [],
   "source": [
    "# IMPORTANT: this fuction assumes that the image is already resized to 320x240\n",
    "# probably need to change the hardcoded values to make it more general\n",
    "def project_image(img):\n",
    "    # setting homography variables\n",
    "    top_x = 72\n",
    "    top_y = 4\n",
    "    bottom_x = 115\n",
    "    bottom_y = 120\n",
    "\n",
    "    ## homography transform process\n",
    "    # selecting 4 points from the original image\n",
    "    pts_src = np.array([[160 - top_x, 180 - top_y], [160 + top_x, 180 - top_y], [160 + bottom_x, 120 + bottom_y], [160 - bottom_x, 120 + bottom_y]])\n",
    "\n",
    "    # selecting 4 points from image that will be transformed\n",
    "    pts_dst = np.array([[200, 0], [800, 0], [800, 600], [200, 600]])\n",
    "\n",
    "    # finding homography matrix\n",
    "    h, status = cv2.findHomography(pts_src, pts_dst)\n",
    "\n",
    "    # homography process\n",
    "    cv_image_homography = cv2.warpPerspective(img, h, (1000, 600))\n",
    "\n",
    "    # fill the empty space with black triangles on left and right side of bottom\n",
    "    triangle1 = np.array([[0, 599], [0, 340], [200, 599]], np.int32)\n",
    "    triangle2 = np.array([[999, 599], [999, 340], [799, 599]], np.int32)\n",
    "    black = (0, 0, 0)\n",
    "    white = (255, 255, 255)\n",
    "    cv_image_homography = cv2.fillPoly(cv_image_homography, [triangle1, triangle2], black)\n",
    "\n",
    "    cv_image_homography = (cv_image_homography >= 127).astype(np.uint8) * 255\n",
    "    return cv_image_homography"
   ]
  },
  {
   "cell_type": "code",
   "execution_count": 44,
   "metadata": {},
   "outputs": [
    {
     "data": {
      "text/plain": [
       "<matplotlib.image.AxesImage at 0x7ff5a55accf8>"
      ]
     },
     "execution_count": 44,
     "metadata": {},
     "output_type": "execute_result"
    },
    {
     "data": {
      "image/png": "[encoded data removed]",
      "text/plain": [
       "<Figure size 432x288 with 1 Axes>"
      ]
     },
     "metadata": {
      "needs_background": "light"
     },
     "output_type": "display_data"
    }
   ],
   "source": [
    "edges_projected = project_image(edges)\n",
    "plt.imshow(edges_projected)"
   ]
  },
  {
   "cell_type": "code",
   "execution_count": 45,
   "metadata": {},
   "outputs": [
    {
     "data": {
      "text/plain": [
       "255"
      ]
     },
     "execution_count": 45,
     "metadata": {},
     "output_type": "execute_result"
    }
   ],
   "source": [
    "edges_projected.max()"
   ]
  },
  {
   "cell_type": "markdown",
   "metadata": {},
   "source": [
    "## 3. Hough Transformation + Line Masking\n",
    "\n",
    "대충 설명하면 다음과 같다.\n",
    "\n",
    "1) Hough Transformation을 통해 edge image에서 매칭될 수 있는 선분의 집합을 찾는다. 각 선분은 시작점 (x1, y1)과 끝점 (x2, y2)의 집합으로 표현된다.\n",
    "2) 위 edge image를 보면 알 수 있듯이, 대부분의 차선은 y축과 평행한 방향에 가깝다. 즉 기울기의 절댓값이 매우 크다는 뜻이므로, 기울기의 절댓값이 크지 않은 선분들은 선분 집합에서 버린다.\n",
    "3) 이렇게 얻은 선분 집합을 토대로 마스킹을 다시 한다.\n",
    "\n",
    "이렇게 하면 전체 edge 중 차선이 아닐 것 같아 보이는 것들은 일단 거를 수 있다."
   ]
  },
  {
   "cell_type": "code",
   "execution_count": 46,
   "metadata": {},
   "outputs": [],
   "source": [
    "def mask_line(edges, thickness=5):\n",
    "    # If there are no lines to draw, exit.\n",
    "    lines = cv2.HoughLinesP(\n",
    "        edges,\n",
    "        rho=6,\n",
    "        theta=np.pi / 60,\n",
    "        threshold=160,\n",
    "        lines=np.array([]),\n",
    "        minLineLength=40,\n",
    "        maxLineGap=25\n",
    "    )\n",
    "\n",
    "    lines_filtered = []\n",
    "    for line in lines:\n",
    "        for x1, y1, x2, y2 in line:\n",
    "            if x1 == x2:\n",
    "                continue\n",
    "            slope = (y2 - y1) / (x2 - x1)\n",
    "            if abs(slope) < 2.0:\n",
    "                continue\n",
    "            lines_filtered.append(line)\n",
    "\n",
    "    # Make a copy of the original image.\n",
    "    line_img = np.zeros_like(edges)\n",
    "    # Create a blank image that matches the original in size.\n",
    "    # Loop over all lines and draw them on the blank image.\n",
    "    for line in lines_filtered:\n",
    "        for x1, y1, x2, y2 in line:\n",
    "            cv2.line(line_img, (x1, y1), (x2, y2), [255, 255, 255], thickness)\n",
    "\n",
    "    line_img = (line_img >= 127).astype(np.uint8) * 255\n",
    "\n",
    "    return line_img"
   ]
  },
  {
   "cell_type": "code",
   "execution_count": 47,
   "metadata": {},
   "outputs": [
    {
     "data": {
      "text/plain": [
       "<matplotlib.image.AxesImage at 0x7ff5a550d278>"
      ]
     },
     "execution_count": 47,
     "metadata": {},
     "output_type": "execute_result"
    },
    {
     "data": {
      "image/png": "[encoded data removed]",
      "text/plain": [
       "<Figure size 432x288 with 1 Axes>"
      ]
     },
     "metadata": {
      "needs_background": "light"
     },
     "output_type": "display_data"
    }
   ],
   "source": [
    "line_mask = mask_line(edges_projected)\n",
    "plt.imshow(line_mask)"
   ]
  },
  {
   "cell_type": "markdown",
   "metadata": {},
   "source": [
    "## 4. Line Fitting 2차함수 계수 구하기\n",
    "\n",
    "일단 위에서 구한 masking을 왼쪽과 오른쪽으로 찣어두고 각각에서 구하자."
   ]
  },
  {
   "cell_type": "code",
   "execution_count": 48,
   "metadata": {},
   "outputs": [],
   "source": [
    "left_mask = np.zeros_like(edges_projected)\n",
    "right_mask = np.zeros_like(edges_projected)\n",
    "\n",
    "left_mask[:, :500] = line_mask[:, :500]\n",
    "right_mask[:, 500:] = line_mask[:, 500:]"
   ]
  },
  {
   "cell_type": "code",
   "execution_count": 49,
   "metadata": {},
   "outputs": [
    {
     "data": {
      "text/plain": [
       "<matplotlib.image.AxesImage at 0x7ff5a54e55c0>"
      ]
     },
     "execution_count": 49,
     "metadata": {},
     "output_type": "execute_result"
    },
    {
     "data": {
      "image/png": "[encoded data removed]",
      "text/plain": [
       "<Figure size 432x288 with 1 Axes>"
      ]
     },
     "metadata": {
      "needs_background": "light"
     },
     "output_type": "display_data"
    }
   ],
   "source": [
    "plt.imshow(left_mask)"
   ]
  },
  {
   "cell_type": "code",
   "execution_count": 50,
   "metadata": {},
   "outputs": [
    {
     "data": {
      "text/plain": [
       "<matplotlib.image.AxesImage at 0x7ff5a54ba9e8>"
      ]
     },
     "execution_count": 50,
     "metadata": {},
     "output_type": "execute_result"
    },
    {
     "data": {
      "image/png": "[encoded data removed]",
      "text/plain": [
       "<Figure size 432x288 with 1 Axes>"
      ]
     },
     "metadata": {
      "needs_background": "light"
     },
     "output_type": "display_data"
    }
   ],
   "source": [
    "plt.imshow(right_mask)"
   ]
  },
  {
   "cell_type": "markdown",
   "metadata": {},
   "source": [
    "가장 단순무식한 방법은 그냥 MSE estimator를 갖다 쓰는 것이다. 그런데 이렇게 하면 지금 경우에서 왼쪽 차선은 별 문제가 없겠지만, 오른쪽 차선은 위쪽 구석탱이에 차선이 아닌데 edge로 인식된 무언가 때문에 단순한 MSE가 안 된다. Robust estimator 중에 좀 쉽게 구현 가능해 보이는 M-estimator with IRLS를 사용했다. M-estimator와 IRLS가 뭔지는 위키백과를 보자.\n",
    "\n",
    "https://en.wikipedia.org/wiki/M-estimator\n",
    "\n",
    "https://en.wikipedia.org/wiki/Iteratively_reweighted_least_squares \n",
    "\n",
    "함수의 return값 중 lane_fitx는 곡선으로 표현된 차선에서 y좌표가 0, 1, 2, ... 일 때 각각의 x좌표를 나타낸 것이고, fit은 2차함수의 계수를 의미한다. 이걸 실제로 써먹을 때에는 2차함수 계수보다는 실제 좌표값이 더 중요하긴 한데, 뭐 그냥 그렇다고..."
   ]
  },
  {
   "cell_type": "code",
   "execution_count": 51,
   "metadata": {},
   "outputs": [],
   "source": [
    "# polynomial fit with m-estimator with IRLS instead of least squares\n",
    "def fit_from_lines(mask, s_coeff=1.0):\n",
    "    y, x = np.nonzero(mask)\n",
    "    fit = np.polyfit(y, x, 2)\n",
    "\n",
    "    ploty = np.linspace(0, mask.shape[0] - 1, mask.shape[0])\n",
    "    lane_fitx = fit[0] * ploty ** 2 + fit[1] * ploty + fit[2]\n",
    "\n",
    "    # M-estimator\n",
    "    residuals = x - (fit[0] * y ** 2 + fit[1] * y + fit[2])\n",
    "    median = np.median(residuals)\n",
    "    deviation = np.abs(residuals - median)\n",
    "    mdev = np.median(deviation)\n",
    "    \n",
    "    s = s_coeff * mdev\n",
    "    mask = deviation < 2.0 * s\n",
    "\n",
    "    y = y[mask]\n",
    "    x = x[mask]\n",
    "    fit = np.polyfit(y, x, 2)\n",
    "    lane_fitx = fit[0] * ploty ** 2 + fit[1] * ploty + fit[2]\n",
    "\n",
    "    return lane_fitx, fit\n",
    "\n",
    "left_fitx, left_fit = fit_from_lines(left_mask)\n",
    "right_fitx, right_fit = fit_from_lines(right_mask)"
   ]
  },
  {
   "cell_type": "code",
   "execution_count": 52,
   "metadata": {},
   "outputs": [
    {
     "data": {
      "text/plain": [
       "array([787.21263046, 787.33926327, 787.46575879, 787.59211703,\n",
       "       787.71833797, 787.84442163, 787.97036799, 788.09617707,\n",
       "       788.22184886, 788.34738336])"
      ]
     },
     "execution_count": 52,
     "metadata": {},
     "output_type": "execute_result"
    }
   ],
   "source": [
    "right_fitx[:10]"
   ]
  },
  {
   "cell_type": "markdown",
   "metadata": {},
   "source": [
    "슬라이딩 윈도우인가 뭔가도 한 번 써보자"
   ]
  },
  {
   "cell_type": "code",
   "execution_count": 53,
   "metadata": {},
   "outputs": [],
   "source": [
    "# Sliding window search\n",
    "def sliding_windown(img_w, left_or_right, debug=False):\n",
    "    histogram = np.sum(img_w[int(img_w.shape[0] / 2):, :], axis=0)\n",
    "\n",
    "    # Create an output image to draw on and visualize the result\n",
    "    out_img = np.dstack((img_w, img_w, img_w)) * 255\n",
    "\n",
    "    # Find the peak of the left and right halves of the histogram\n",
    "    # These will be the starting point for the left and right lines\n",
    "    midpoint = np.int(histogram.shape[0] / 2)\n",
    "\n",
    "    if left_or_right == 'left':\n",
    "        lane_base = np.argmax(histogram[:midpoint])\n",
    "    elif left_or_right == 'right':\n",
    "        lane_base = np.argmax(histogram[midpoint:]) + midpoint\n",
    "\n",
    "    # Choose the number of sliding windows\n",
    "    nwindows = 20\n",
    "\n",
    "    # Set height of windows\n",
    "    window_height = np.int(img_w.shape[0] / nwindows)\n",
    "\n",
    "    # Identify the x and y positions of all nonzero pixels in the image\n",
    "    nonzero = img_w.nonzero()\n",
    "    nonzeroy = np.array(nonzero[0])\n",
    "    nonzerox = np.array(nonzero[1])\n",
    "\n",
    "    # Current positions to be updated for each window\n",
    "    x_current = lane_base\n",
    "\n",
    "    # Set the width of the windows +/- margin\n",
    "    margin = 50\n",
    "\n",
    "    # Set minimum number of pixels found to recenter window\n",
    "    minpix = 50\n",
    "\n",
    "    # Create empty lists to receive lane pixel indices\n",
    "    lane_inds = []\n",
    "\n",
    "    # Step through the windows one by one\n",
    "    for window in range(nwindows):\n",
    "        # Identify window boundaries in x and y\n",
    "        win_y_low = img_w.shape[0] - (window + 1) * window_height\n",
    "        win_y_high = img_w.shape[0] - window * window_height\n",
    "        win_x_low = x_current - margin\n",
    "        win_x_high = x_current + margin\n",
    "\n",
    "        # Draw the windows on the visualization image\n",
    "        cv2.rectangle(out_img, (win_x_low, win_y_low), (win_x_high, win_y_high), (0, 255, 0), 2)\n",
    "        cv2.circle(out_img, (x_current, (win_y_low + win_y_high) // 2), 5, (255, 0, 0), -1)\n",
    "\n",
    "        # Identify the nonzero pixels in x and y within the window\n",
    "        good_lane_inds = ((nonzeroy >= win_y_low) & (nonzeroy < win_y_high) & (nonzerox >= win_x_low) & (\n",
    "            nonzerox < win_x_high)).nonzero()[0]\n",
    "\n",
    "        # Append these indices to the lists\n",
    "        lane_inds.append(good_lane_inds)\n",
    "\n",
    "        # If you found > minpix pixels, recenter next window on their mean position\n",
    "        if len(good_lane_inds) > minpix:\n",
    "            x_current = np.int(np.mean(nonzerox[good_lane_inds]))\n",
    "\n",
    "    # Concatenate the arrays of indices\n",
    "    lane_inds = np.concatenate(lane_inds)\n",
    "\n",
    "    # Extract line pixel positions\n",
    "    x = nonzerox[lane_inds]\n",
    "    y = nonzeroy[lane_inds]\n",
    "\n",
    "    # Fit a second order polynomial to each\n",
    "    lane_fit = np.polyfit(y, x, 2)\n",
    "\n",
    "    # Generate x and y values for plotting\n",
    "    ploty = np.linspace(0, img_w.shape[0] - 1, img_w.shape[0])\n",
    "    lane_fitx = lane_fit[0] * ploty ** 2 + lane_fit[1] * ploty + lane_fit[2]\n",
    "    \n",
    "    if debug:\n",
    "        return lane_fitx, lane_fit, out_img\n",
    "    return lane_fitx, lane_fit"
   ]
  },
  {
   "cell_type": "code",
   "execution_count": 54,
   "metadata": {},
   "outputs": [
    {
     "data": {
      "text/plain": [
       "<matplotlib.image.AxesImage at 0x7ff5a5435390>"
      ]
     },
     "execution_count": 54,
     "metadata": {},
     "output_type": "execute_result"
    },
    {
     "data": {
      "image/png": "[encoded data removed]",
      "text/plain": [
       "<Figure size 432x288 with 1 Axes>"
      ]
     },
     "metadata": {
      "needs_background": "light"
     },
     "output_type": "display_data"
    }
   ],
   "source": [
    "left_fitx, left_fit, out_img = sliding_windown(left_mask, 'left', debug=True)\n",
    "plt.imshow(out_img)"
   ]
  },
  {
   "cell_type": "code",
   "execution_count": 55,
   "metadata": {},
   "outputs": [
    {
     "data": {
      "text/plain": [
       "<matplotlib.image.AxesImage at 0x7ff5a538e780>"
      ]
     },
     "execution_count": 55,
     "metadata": {},
     "output_type": "execute_result"
    },
    {
     "data": {
      "image/png": "[encoded data removed]",
      "text/plain": [
       "<Figure size 432x288 with 1 Axes>"
      ]
     },
     "metadata": {
      "needs_background": "light"
     },
     "output_type": "display_data"
    }
   ],
   "source": [
    "right_fitx, right_fit, out_img = sliding_windown(right_mask, 'right', debug=True)\n",
    "plt.imshow(out_img) "
   ]
  },
  {
   "cell_type": "markdown",
   "metadata": {},
   "source": [
    "이 아래는 시각화를 위한 뻘짓이다. 사실 이걸 그대로 ROS node 코드에다가 써먹을 수 있는 것도 아니고, ROS node(`/turtlebot3_autorace_detect/lane_detect_new`)도 따로 완성해 놨으니까 이 다음 단계로 뭘 하는지 궁금하면 거길 보자."
   ]
  },
  {
   "cell_type": "code",
   "execution_count": 56,
   "metadata": {},
   "outputs": [
    {
     "data": {
      "text/plain": [
       "array([[0, 0, 0, ..., 0, 0, 0],\n",
       "       [0, 0, 0, ..., 0, 0, 0],\n",
       "       [0, 0, 0, ..., 0, 0, 0],\n",
       "       ...,\n",
       "       [0, 0, 0, ..., 0, 0, 0],\n",
       "       [0, 0, 0, ..., 0, 0, 0],\n",
       "       [0, 0, 0, ..., 0, 0, 0]], dtype=uint8)"
      ]
     },
     "execution_count": 56,
     "metadata": {},
     "output_type": "execute_result"
    }
   ],
   "source": [
    "final_line_mask = np.zeros_like(edges_projected)\n",
    "pts_left = np.array([np.transpose(np.vstack([left_fitx, np.linspace(0, final_line_mask.shape[0] - 1, final_line_mask.shape[0])]))])\n",
    "pts_right = np.array([np.transpose(np.vstack([right_fitx, np.linspace(0, final_line_mask.shape[0] - 1, final_line_mask.shape[0])]))])\n",
    "\n",
    "centerx = (left_fitx + right_fitx) / 2\n",
    "pts_center = np.array([np.transpose(np.vstack([centerx, np.linspace(0, final_line_mask.shape[0] - 1, final_line_mask.shape[0])]))])\n",
    "\n",
    "pts = np.hstack((pts_left, pts_right, pts_center))\n",
    "\n",
    "cv2.polylines(\n",
    "    final_line_mask,\n",
    "    np.int_([pts_left]),\n",
    "    isClosed=False,\n",
    "    color=(255, 255, 255),\n",
    "    thickness=5\n",
    ")\n",
    "cv2.polylines(\n",
    "    final_line_mask,\n",
    "    np.int_([pts_right]),\n",
    "    isClosed=False,\n",
    "    color=(255, 255, 255),\n",
    "    thickness=5\n",
    ")\n",
    "cv2.polylines(\n",
    "    final_line_mask,\n",
    "    np.int_([pts_center]),\n",
    "    isClosed=False,\n",
    "    color=(255, 255, 255),\n",
    "    thickness=5\n",
    ")"
   ]
  },
  {
   "cell_type": "code",
   "execution_count": 57,
   "metadata": {},
   "outputs": [
    {
     "data": {
      "text/plain": [
       "array([[[521.60349663,   0.        ],\n",
       "        [521.65333288,   1.        ],\n",
       "        [521.70298497,   2.        ],\n",
       "        ...,\n",
       "        [518.59166612, 597.        ],\n",
       "        [518.53155582, 598.        ],\n",
       "        [518.47126135, 599.        ]]])"
      ]
     },
     "execution_count": 57,
     "metadata": {},
     "output_type": "execute_result"
    }
   ],
   "source": [
    "pts_center"
   ]
  },
  {
   "cell_type": "code",
   "execution_count": 58,
   "metadata": {},
   "outputs": [
    {
     "data": {
      "text/plain": [
       "<matplotlib.image.AxesImage at 0x7ff5a536aac8>"
      ]
     },
     "execution_count": 58,
     "metadata": {},
     "output_type": "execute_result"
    },
    {
     "data": {
      "image/png": "[encoded data removed]",
      "text/plain": [
       "<Figure size 432x288 with 1 Axes>"
      ]
     },
     "metadata": {
      "needs_background": "light"
     },
     "output_type": "display_data"
    }
   ],
   "source": [
    "plt.imshow(final_line_mask)"
   ]
  },
  {
   "cell_type": "code",
   "execution_count": null,
   "metadata": {},
   "outputs": [],
   "source": [
    "# remove the misleading lines (in step 3)\n",
    "# using the polynomial fit\n",
    "# if the line is too far from the polynomial fit, remove it\n",
    "def remove_misleading_lines(mask, left_fitx, right_fitx, margin=50):\n",
    "    y, x = np.nonzero(mask)\n",
    "    lane_center = (left_fitx + right_fitx) / 2\n",
    "\n",
    "    mask = np.abs(x - (lane_center[y])) < margin\n",
    "\n",
    "    y = y[mask]\n",
    "    x = x[mask]\n",
    "\n",
    "    return y, x"
   ]
  },
  {
   "cell_type": "code",
   "execution_count": null,
   "metadata": {},
   "outputs": [],
   "source": [
    "# now we need to distinguish if the line is dash or solid\n",
    "# for each line (left and light), find the count of rows that have white pixels\n",
    "# if the count is less than a threshold, then it is a dash line\n",
    "def find_dash_line(mask, threshold=None):\n",
    "    if threshold is None:\n",
    "        # ok this will need lots of tuning\n",
    "        threshold = int(mask.shape[1] * 0.7)\n",
    "    dash = False\n",
    "    white_rows = np.sum(mask == 255, axis=1)\n",
    "    if np.sum(white_rows < threshold) > 0:\n",
    "        dash = True\n",
    "    return dash"
   ]
  }
 ],
 "metadata": {
  "kernelspec": {
   "display_name": "Python 3",
   "language": "python",
   "name": "python3"
  },
  "language_info": {
   "codemirror_mode": {
    "name": "ipython",
    "version": 3
   },
   "file_extension": ".py",
   "mimetype": "text/x-python",
   "name": "python",
   "nbconvert_exporter": "python",
   "pygments_lexer": "ipython3",
   "version": "3.6.9"
  }
 },
 "nbformat": 4,
 "nbformat_minor": 2
}
